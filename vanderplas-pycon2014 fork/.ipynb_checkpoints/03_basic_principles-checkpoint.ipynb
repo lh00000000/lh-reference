{
 "metadata": {
  "name": "",
  "signature": "sha256:b43dc356ad1ac081584f432443f25e40be6bcc73a8915d9570e7d670650e503b"
 },
 "nbformat": 3,
 "nbformat_minor": 0,
 "worksheets": [
  {
   "cells": [
    {
     "cell_type": "markdown",
     "metadata": {},
     "source": [
      "<small><i>This notebook was put together by [Jake Vanderplas](http://www.vanderplas.com) for PyCon 2014. Source and license info is on [GitHub](https://github.com/jakevdp/sklearn_pycon2014/).</i></small>"
     ]
    },
    {
     "cell_type": "heading",
     "level": 1,
     "metadata": {},
     "source": [
      "Basic principles of machine learning"
     ]
    },
    {
     "cell_type": "markdown",
     "metadata": {},
     "source": [
      "Here is where we start diving into the field of machine learning.\n",
      "\n",
      "By the end of this section you will\n",
      "\n",
      "- Know the basic categories of supervised learning, including classification and regression problems.\n",
      "- Know the basic categories of unsupervised learning, including dimensionality reduction and clustering.\n",
      "- Know the basic syntax of the Scikit-learn **estimator** interface.\n",
      "- Know why data should be split into a **training set** and **test set**\n",
      "\n",
      "In addition, we will go over several basic tools within scikit-learn which can be used to accomplish the above tasks."
     ]
    },
    {
     "cell_type": "code",
     "collapsed": false,
     "input": [
      "%matplotlib inline\n",
      "import numpy as np\n",
      "import matplotlib.pyplot as plt"
     ],
     "language": "python",
     "metadata": {},
     "outputs": [],
     "prompt_number": 2
    },
    {
     "cell_type": "heading",
     "level": 2,
     "metadata": {},
     "source": [
      "Problem setting"
     ]
    },
    {
     "cell_type": "heading",
     "level": 3,
     "metadata": {},
     "source": [
      "A simple definition of machine learning"
     ]
    },
    {
     "cell_type": "markdown",
     "metadata": {},
     "source": [
      "Machine Learning (ML) is about building programs with **tunable parameters** (typically an\n",
      "array of floating point values) that are adjusted automatically so as to improve\n",
      "their behavior by **adapting to previously seen data.**\n",
      "\n",
      "In most ML applications, the data is in a 2D array of shape ``[n_samples x n_features]``,\n",
      "where the number of features is the same for each object, and each feature column refers\n",
      "to a related piece of information about each sample.\n",
      "\n",
      "Machine learning can be broken into two broad regimes:\n",
      "*supervised learning* and *unsupervised learning*.\n",
      "We\u2019ll introduce these concepts here, and discuss them in more detail below."
     ]
    },
    {
     "cell_type": "heading",
     "level": 3,
     "metadata": {},
     "source": [
      "Introducing the scikit-learn estimator object"
     ]
    },
    {
     "cell_type": "markdown",
     "metadata": {},
     "source": [
      "Every algorithm is exposed in scikit-learn via an ''Estimator'' object. For instance a linear regression is:"
     ]
    },
    {
     "cell_type": "code",
     "collapsed": false,
     "input": [
      "from sklearn.linear_model import LinearRegression"
     ],
     "language": "python",
     "metadata": {},
     "outputs": [],
     "prompt_number": 3
    },
    {
     "cell_type": "markdown",
     "metadata": {},
     "source": [
      "**Estimator parameters**: All the parameters of an estimator can be set when it is instantiated:"
     ]
    },
    {
     "cell_type": "code",
     "collapsed": false,
     "input": [
      "model = LinearRegression(normalize=True)\n",
      "print model.normalize"
     ],
     "language": "python",
     "metadata": {},
     "outputs": [
      {
       "output_type": "stream",
       "stream": "stdout",
       "text": [
        "True\n"
       ]
      }
     ],
     "prompt_number": 6
    },
    {
     "cell_type": "code",
     "collapsed": false,
     "input": [
      "print model"
     ],
     "language": "python",
     "metadata": {},
     "outputs": [
      {
       "output_type": "stream",
       "stream": "stdout",
       "text": [
        "LinearRegression(copy_X=True, fit_intercept=True, normalize=True)\n"
       ]
      }
     ],
     "prompt_number": 8
    },
    {
     "cell_type": "markdown",
     "metadata": {},
     "source": [
      "**Estimated parameters**: When data is fitted with an estimator, parameters are estimated from the data at hand. All the estimated parameters are attributes of the estimator object ending by an underscore:"
     ]
    },
    {
     "cell_type": "code",
     "collapsed": false,
     "input": [
      "x = np.array([0, 1, 2])\n",
      "y = np.array([0, 1, 2])"
     ],
     "language": "python",
     "metadata": {},
     "outputs": [],
     "prompt_number": 9
    },
    {
     "cell_type": "code",
     "collapsed": false,
     "input": [
      "plt.plot(x, y, marker='o');"
     ],
     "language": "python",
     "metadata": {},
     "outputs": [
      {
       "metadata": {},
       "output_type": "display_data",
       "png": "[encoded data removed]",
       "text": [
        "<matplotlib.figure.Figure at 0x7f2e2d6cc990>"
       ]
      }
     ],
     "prompt_number": 10
    },
    {
     "cell_type": "code",
     "collapsed": false,
     "input": [
      "X = x[:, np.newaxis] # The input data for sklearn is 2D: (samples == 3 x features == 1)\n",
      "X"
     ],
     "language": "python",
     "metadata": {},
     "outputs": [
      {
       "metadata": {},
       "output_type": "pyout",
       "prompt_number": 11,
       "text": [
        "array([[0],\n",
        "       [1],\n",
        "       [2]])"
       ]
      }
     ],
     "prompt_number": 11
    },
    {
     "cell_type": "code",
     "collapsed": false,
     "input": [
      "model.fit(X, y) \n",
      "model.residues_"
     ],
     "language": "python",
     "metadata": {},
     "outputs": [
      {
       "metadata": {},
       "output_type": "pyout",
       "prompt_number": 15,
       "text": [
        "1.2325951644078309e-32"
       ]
      }
     ],
     "prompt_number": 15
    },
    {
     "cell_type": "heading",
     "level": 2,
     "metadata": {},
     "source": [
      "Supervised Learning: Classification and regression"
     ]
    },
    {
     "cell_type": "markdown",
     "metadata": {},
     "source": [
      "In **Supervised Learning**, we have a dataset consisting of both features and labels.\n",
      "The task is to construct an estimator which is able to predict the label of an object\n",
      "given the set of features. A relatively simple example is predicting the species of \n",
      "iris given a set of measurements of its flower. This is a relatively simple task. \n",
      "Some more complicated examples are:\n",
      "\n",
      "- given a multicolor image of an object through a telescope, determine\n",
      "  whether that object is a star, a quasar, or a galaxy.\n",
      "- given a photograph of a person, identify the person in the photo.\n",
      "- given a list of movies a person has watched and their personal rating\n",
      "  of the movie, recommend a list of movies they would like\n",
      "  (So-called *recommender systems*: a famous example is the [Netflix Prize](http://en.wikipedia.org/wiki/Netflix_prize)).\n",
      "\n",
      "What these tasks have in common is that there is one or more unknown\n",
      "quantities associated with the object which needs to be determined from other\n",
      "observed quantities.\n",
      "\n",
      "Supervised learning is further broken down into two categories, **classification** and **regression**.\n",
      "In classification, the label is discrete, while in regression, the label is continuous. For example,\n",
      "in astronomy, the task of determining whether an object is a star, a galaxy, or a quasar is a\n",
      "classification problem: the label is from three distinct categories. On the other hand, we might\n",
      "wish to estimate the age of an object based on such observations: this would be a regression problem,\n",
      "because the label (age) is a continuous quantity."
     ]
    },
    {
     "cell_type": "markdown",
     "metadata": {},
     "source": [
      "### Classification\n",
      "K nearest neighbors (kNN) is one of the simplest learning strategies: given a new, unknown observation, look up in your reference database which ones have the closest features and assign the predominant class.\n",
      "\n",
      "Let's try it out on our iris classification problem:"
     ]
    },
    {
     "cell_type": "code",
     "collapsed": false,
     "input": [
      "from sklearn import neighbors, datasets\n",
      "iris = datasets.load_iris()\n",
      "X, y = iris.data, iris.target\n",
      "knn = neighbors.KNeighborsClassifier(n_neighbors=1)\n",
      "knn.fit(X, y)\n",
      "# What kind of iris has 3cm x 5cm sepal and 4cm x 2cm petal?\n",
      "print iris.target_names[knn.predict([[3, 5, 4, 2]])]"
     ],
     "language": "python",
     "metadata": {},
     "outputs": [
      {
       "output_type": "stream",
       "stream": "stdout",
       "text": [
        "['virginica']\n"
       ]
      }
     ],
     "prompt_number": 16
    },
    {
     "cell_type": "code",
     "collapsed": false,
     "input": [
      "# A plot of the sepal space and the prediction of the KNN\n",
      "from fig_code import plot_iris_classification\n",
      "plot_iris_classification(neighbors.KNeighborsClassifier, n_neighbors=3)"
     ],
     "language": "python",
     "metadata": {},
     "outputs": [
      {
       "metadata": {},
       "output_type": "display_data",
       "png": "[encoded data removed]",
       "text": [
        "<matplotlib.figure.Figure at 0x7f2e05dd0cd0>"
       ]
      }
     ],
     "prompt_number": 17
    },
    {
     "cell_type": "markdown",
     "metadata": {},
     "source": [
      "#### Quick Exercise\n",
      "Now use as an estimator on the same problem: ``sklearn.svm.SVC``.\n",
      "\n",
      "(Note that you don't have to know what it is to use it. If you finish early, do the same plot as above)."
     ]
    },
    {
     "cell_type": "code",
     "collapsed": false,
     "input": [
      "from sklearn.svm import SVC\n",
      "unknown_iris = [[3, 5, 4, 2]]\n",
      "\n",
      "# Use SVC to train and predict the species of the unknown iris...\n",
      "from sklearn import svm, datasets\n",
      "iris = datasets.load_iris()\n",
      "X, y = iris.data, iris.target\n",
      "vvv = svm.SVC()\n",
      "vvv.fit(X, y)\n",
      "\n",
      "# What kind of iris has 3cm x 5cm sepal and 4cm x 2cm petal?\n",
      "print iris.target_names[knn.predict(unknown_iris)]\n",
      "\n",
      "# A plot of the sepal space and the prediction of the KNN\n",
      "from fig_code import plot_iris_classification\n",
      "plot_iris_classification(svm.SVC)\n"
     ],
     "language": "python",
     "metadata": {},
     "outputs": [
      {
       "output_type": "stream",
       "stream": "stdout",
       "text": [
        "['virginica']\n"
       ]
      },
      {
       "metadata": {},
       "output_type": "display_data",
       "png": "[encoded data removed]",
       "text": [
        "<matplotlib.figure.Figure at 0x7f2e2d76ebd0>"
       ]
      }
     ],
     "prompt_number": 20
    },
    {
     "cell_type": "markdown",
     "metadata": {},
     "source": [
      "### Regression\n",
      "The simplest possible regression setting is the linear regression one:"
     ]
    },
    {
     "cell_type": "code",
     "collapsed": false,
     "input": [
      "# Create some simple data\n",
      "np.random.seed(0)\n",
      "X = np.random.random(size=(20, 1))\n",
      "y = 3 * X.squeeze() + 2 + np.random.normal(size=20)"
     ],
     "language": "python",
     "metadata": {},
     "outputs": [],
     "prompt_number": 21
    },
    {
     "cell_type": "code",
     "collapsed": false,
     "input": [
      "# Fit a linear regression to it\n",
      "from sklearn.linear_model import LinearRegression\n",
      "model = LinearRegression(fit_intercept=True)\n",
      "model.fit(X, y)\n",
      "print \"Model coefficient: %.5f, and intercept: %.5f\" % (model.coef_, model.intercept_)"
     ],
     "language": "python",
     "metadata": {},
     "outputs": [
      {
       "output_type": "stream",
       "stream": "stdout",
       "text": [
        "Model coefficient: 3.93491, and intercept: 1.46229\n"
       ]
      }
     ],
     "prompt_number": 22
    },
    {
     "cell_type": "code",
     "collapsed": false,
     "input": [
      "# Plot the data and the model prediction\n",
      "X_test = np.linspace(0, 1, 100)[:, np.newaxis]\n",
      "y_test = model.predict(X_test)\n",
      "import pylab as pl\n",
      "plt.plot(X.squeeze(), y, 'o')\n",
      "plt.plot(X_test.squeeze(), y_test);"
     ],
     "language": "python",
     "metadata": {},
     "outputs": [
      {
       "metadata": {},
       "output_type": "display_data",
       "png": "[encoded data removed]",
       "text": [
        "<matplotlib.figure.Figure at 0x7f2e04e30210>"
       ]
      }
     ],
     "prompt_number": 23
    },
    {
     "cell_type": "heading",
     "level": 2,
     "metadata": {},
     "source": [
      "Unsupervised Learning"
     ]
    },
    {
     "cell_type": "markdown",
     "metadata": {},
     "source": [
      "**Unsupervised Learning** addresses a different sort of problem. Here the data has no labels,\n",
      "and we are interested in finding similarities between the objects in question. In a sense,\n",
      "you can think of unsupervised learning as a means of discovering labels from the data itself.\n",
      "Unsupervised learning comprises tasks such as *dimensionality reduction*, *clustering*, and\n",
      "*density estimation*. For example, in the iris data discussed above, we can used unsupervised\n",
      "methods to determine combinations of the measurements which best display the structure of the\n",
      "data. As we\u2019ll see below, such a projection of the data can be used to visualize the\n",
      "four-dimensional dataset in two dimensions. Some more involved unsupervised learning problems are:\n",
      "\n",
      "- given detailed observations of distant galaxies, determine which features or combinations of\n",
      "  features summarize best the information.\n",
      "- given a mixture of two sound sources (for example, a person talking over some music),\n",
      "  separate the two (this is called the [blind source separation](http://en.wikipedia.org/wiki/Blind_signal_separation) problem).\n",
      "- given a video, isolate a moving object and categorize in relation to other moving objects which have been seen.\n",
      "\n",
      "Sometimes the two may even be combined: e.g. Unsupervised learning can be used to find useful\n",
      "features in heterogeneous data, and then these features can be used within a supervised\n",
      "framework."
     ]
    },
    {
     "cell_type": "markdown",
     "metadata": {},
     "source": [
      "### Dimensionality Reduction\n",
      "\n",
      "Principle Component Analysis (PCA) is a dimension reduction technique that can find the combinations of variables that explain the most variance. Here we'll show an example of using PCA for visualization.\n",
      "\n",
      "Consider the iris dataset. It cannot be visualized in a single 2D plot, as it has 4 features. We are going to extract 2 combinations of sepal and petal dimensions to visualize it:"
     ]
    },
    {
     "cell_type": "code",
     "collapsed": false,
     "input": [
      "X, y = iris.data, iris.target\n",
      "from sklearn.decomposition import PCA\n",
      "pca = PCA(n_components=2)\n",
      "pca.fit(X)\n",
      "X_reduced = pca.transform(X)\n",
      "print \"Reduced dataset shape:\", X_reduced.shape"
     ],
     "language": "python",
     "metadata": {},
     "outputs": [
      {
       "output_type": "stream",
       "stream": "stdout",
       "text": [
        "Reduced dataset shape: (150, 2)\n"
       ]
      }
     ],
     "prompt_number": 24
    },
    {
     "cell_type": "code",
     "collapsed": false,
     "input": [
      "plt.scatter(X_reduced[:, 0], X_reduced[:, 1], c=y);"
     ],
     "language": "python",
     "metadata": {},
     "outputs": [
      {
       "metadata": {},
       "output_type": "display_data",
       "png": "[encoded data removed]",
       "text": [
        "<matplotlib.figure.Figure at 0x7f2e1415afd0>"
       ]
      }
     ],
     "prompt_number": 25
    },
    {
     "cell_type": "code",
     "collapsed": false,
     "input": [
      "print \"Meaning of the 2 components:\"\n",
      "for component in pca.components_:\n",
      "    print \" + \".join(\"%.2f x %s\" % (value, name)\n",
      "                     for value, name in zip(component, iris.feature_names))"
     ],
     "language": "python",
     "metadata": {},
     "outputs": [
      {
       "output_type": "stream",
       "stream": "stdout",
       "text": [
        "Meaning of the 2 components:\n",
        "0.36 x sepal length (cm) + -0.08 x sepal width (cm) + 0.86 x petal length (cm) + 0.36 x petal width (cm)\n",
        "-0.66 x sepal length (cm) + -0.73 x sepal width (cm) + 0.18 x petal length (cm) + 0.07 x petal width (cm)\n"
       ]
      }
     ],
     "prompt_number": 17
    },
    {
     "cell_type": "markdown",
     "metadata": {},
     "source": [
      "### Clustering\n",
      "\n",
      "Clustering groups together observations that are homogeneous with respect to a given criterion, finding ''clusters'' in the data.\n",
      "\n",
      "Note that these clusters will uncover relevent hidden structure of the data only if the criterion used highlights it."
     ]
    },
    {
     "cell_type": "code",
     "collapsed": false,
     "input": [
      "from sklearn.cluster import KMeans\n",
      "k_means = KMeans(n_clusters=3, random_state=8)\n",
      "k_means.fit(X_reduced)\n",
      "y_pred = k_means.predict(X_reduced)\n",
      "\n",
      "print((X.shape))\n",
      "\n",
      "plt.scatter(X_reduced[:, 0], X_reduced[:, 1], c=y_pred);"
     ],
     "language": "python",
     "metadata": {},
     "outputs": [
      {
       "output_type": "stream",
       "stream": "stdout",
       "text": [
        "(150, 4)\n"
       ]
      },
      {
       "metadata": {},
       "output_type": "display_data",
       "png": "[encoded data removed]",
       "text": [
        "<matplotlib.figure.Figure at 0x7f2e050785d0>"
       ]
      }
     ],
     "prompt_number": 40
    },
    {
     "cell_type": "heading",
     "level": 2,
     "metadata": {},
     "source": [
      "A recap on Scikit-learn's estimator interface"
     ]
    },
    {
     "cell_type": "markdown",
     "metadata": {},
     "source": [
      "Scikit-learn strives to have a uniform interface across all methods,\n",
      "and we\u2019ll see examples of these below. Given a scikit-learn *estimator*\n",
      "object named `model`, the following methods are available:\n",
      "\n",
      "- Available in **all Estimators**\n",
      "  + `model.fit()` : fit training data. For supervised learning applications,\n",
      "    this accepts two arguments: the data `X` and the labels `y` (e.g. `model.fit(X, y)`).\n",
      "    For unsupervised learning applications, this accepts only a single argument,\n",
      "    the data `X` (e.g. `model.fit(X)`).\n",
      "- Available in **supervised estimators**\n",
      "  + `model.predict()` : given a trained model, predict the label of a new set of data.\n",
      "    This method accepts one argument, the new data `X_new` (e.g. `model.predict(X_new)`),\n",
      "    and returns the learned label for each object in the array.\n",
      "  + `model.predict_proba()` : For classification problems, some estimators also provide\n",
      "    this method, which returns the probability that a new observation has each categorical label.\n",
      "    In this case, the label with the highest probability is returned by `model.predict()`.\n",
      "  + `model.score()` : for classification or regression problems, most (all?) estimators implement\n",
      "    a score method.  Scores are between 0 and 1, with a larger score indicating a better fit.\n",
      "- Available in **unsupervised estimators**\n",
      "  + `model.transform()` : given an unsupervised model, transform new data into the new basis.\n",
      "    This also accepts one argument `X_new`, and returns the new representation of the data based\n",
      "    on the unsupervised model.\n",
      "  + `model.fit_transform()` : some estimators implement this method,\n",
      "    which more efficiently performs a fit and a transform on the same input data."
     ]
    },
    {
     "cell_type": "heading",
     "level": 3,
     "metadata": {},
     "source": [
      "Measuring Performance"
     ]
    },
    {
     "cell_type": "markdown",
     "metadata": {},
     "source": [
      "An important piece of machine learning is **model validation**: that is, determining how well your model will generalize from the training data to future unlabeled data. Let's look at an example using the *nearest neighbor classifier*. This is a very simple classifier: it simply stores all training data, and for any unknown quantity, simply returns the label of the closest training point.\n",
      "\n",
      "With the iris data, it very easily returns the correct prediction for each of the input points:"
     ]
    },
    {
     "cell_type": "code",
     "collapsed": false,
     "input": [
      "from sklearn.neighbors import KNeighborsClassifier\n",
      "X, y = iris.data, iris.target\n",
      "clf = KNeighborsClassifier(n_neighbors=1)\n",
      "clf.fit(X, y)\n",
      "y_pred = clf.predict(X)\n",
      "print(np.all(y == y_pred))"
     ],
     "language": "python",
     "metadata": {},
     "outputs": [
      {
       "ename": "NameError",
       "evalue": "name 'Xtest' is not defined",
       "output_type": "pyerr",
       "traceback": [
        "\u001b[0;31m---------------------------------------------------------------------------\u001b[0m\n\u001b[0;31mNameError\u001b[0m                                 Traceback (most recent call last)",
        "\u001b[0;32m<ipython-input-42-5a82adec56df>\u001b[0m in \u001b[0;36m<module>\u001b[0;34m()\u001b[0m\n\u001b[1;32m      3\u001b[0m \u001b[0mclf\u001b[0m \u001b[0;34m=\u001b[0m \u001b[0mKNeighborsClassifier\u001b[0m\u001b[0;34m(\u001b[0m\u001b[0mn_neighbors\u001b[0m\u001b[0;34m=\u001b[0m\u001b[0;36m1\u001b[0m\u001b[0;34m)\u001b[0m\u001b[0;34m\u001b[0m\u001b[0m\n\u001b[1;32m      4\u001b[0m \u001b[0mclf\u001b[0m\u001b[0;34m.\u001b[0m\u001b[0mfit\u001b[0m\u001b[0;34m(\u001b[0m\u001b[0mX\u001b[0m\u001b[0;34m,\u001b[0m \u001b[0my\u001b[0m\u001b[0;34m)\u001b[0m\u001b[0;34m\u001b[0m\u001b[0m\n\u001b[0;32m----> 5\u001b[0;31m \u001b[0my_pred\u001b[0m \u001b[0;34m=\u001b[0m \u001b[0mclf\u001b[0m\u001b[0;34m.\u001b[0m\u001b[0mpredict\u001b[0m\u001b[0;34m(\u001b[0m\u001b[0mXtest\u001b[0m\u001b[0;34m)\u001b[0m\u001b[0;34m\u001b[0m\u001b[0m\n\u001b[0m\u001b[1;32m      6\u001b[0m \u001b[0;32mprint\u001b[0m\u001b[0;34m(\u001b[0m\u001b[0mnp\u001b[0m\u001b[0;34m.\u001b[0m\u001b[0mall\u001b[0m\u001b[0;34m(\u001b[0m\u001b[0my\u001b[0m \u001b[0;34m==\u001b[0m \u001b[0my_pred\u001b[0m\u001b[0;34m)\u001b[0m\u001b[0;34m)\u001b[0m\u001b[0;34m\u001b[0m\u001b[0m\n",
        "\u001b[0;31mNameError\u001b[0m: name 'Xtest' is not defined"
       ]
      }
     ],
     "prompt_number": 42
    },
    {
     "cell_type": "markdown",
     "metadata": {},
     "source": [
      "A more useful way to look at the results is to view the **confusion matrix**, or the matrix showing the frequency of inputs and outputs:"
     ]
    },
    {
     "cell_type": "code",
     "collapsed": false,
     "input": [
      "from sklearn.metrics import confusion_matrix\n",
      "print(confusion_matrix(y, y_pred))"
     ],
     "language": "python",
     "metadata": {},
     "outputs": [
      {
       "output_type": "stream",
       "stream": "stdout",
       "text": [
        "[[50  0  0]\n",
        " [ 0 50  0]\n",
        " [ 0  0 50]]\n"
       ]
      }
     ],
     "prompt_number": 43
    },
    {
     "cell_type": "markdown",
     "metadata": {},
     "source": [
      "For each class, all 50 training samples are correctly identified. But this **does not mean that our model is perfect!** In particular, such a model generalizes extremely poorly to new data. We can simulate this by splitting our data into a *training set* and a *testing set*. Scikit-learn contains some convenient routines to do this:"
     ]
    },
    {
     "cell_type": "code",
     "collapsed": false,
     "input": [
      "from sklearn.cross_validation import train_test_split\n",
      "Xtrain, Xtest, ytrain, ytest = train_test_split(X, y)\n",
      "clf.fit(Xtrain, ytrain)\n",
      "ypred = clf.predict(Xtest)\n",
      "print(confusion_matrix(ytest, ypred))"
     ],
     "language": "python",
     "metadata": {},
     "outputs": [
      {
       "output_type": "stream",
       "stream": "stdout",
       "text": [
        "[[12  0  0]\n",
        " [ 0 11  3]\n",
        " [ 0  0 12]]\n"
       ]
      }
     ],
     "prompt_number": 44
    },
    {
     "cell_type": "markdown",
     "metadata": {},
     "source": [
      "This paints a better picture of the true performance of our classifier: apparently there is some confusion between the second and third species, which we might anticipate given what we've seen of the data above.\n",
      "\n",
      "This is why it's **extremely important** to use a train/test split when evaluating your models.  We'll go into more depth on model evaluation later in this tutorial."
     ]
    },
    {
     "cell_type": "heading",
     "level": 2,
     "metadata": {},
     "source": [
      "Exercise: Interactive Demo on linearly separable data"
     ]
    },
    {
     "cell_type": "markdown",
     "metadata": {},
     "source": [
      "To get a feel for how a classification task works, please run the **svm_gui.py** file available in the repository (use the command below). It will open an interactive window which allows you to click and add points and see how this affects the model.\n",
      "\n",
      "What is the fewest number of points you can create that are not linearly separable (that is, for which a linear kernel fails to build a correct discriminative model)?"
     ]
    },
    {
     "cell_type": "code",
     "collapsed": false,
     "input": [
      "%run fig_code/svm_gui.py\n",
      "#    or, if this doesn't work, try\n",
      "# !python fig_code/svm_gui.py"
     ],
     "language": "python",
     "metadata": {},
     "outputs": [
      {
       "output_type": "stream",
       "stream": "stdout",
       "text": [
        "\n",
        "==========\n",
        "Libsvm GUI\n",
        "==========\n",
        "\n",
        "A simple graphical frontend for Libsvm mainly intended for didactic\n",
        "purposes. You can create data points by point and click and visualize\n",
        "the decision region induced by different kernels and parameter settings.\n",
        "\n",
        "To create positive examples click the left mouse button; to create\n",
        "negative examples click the right button.\n",
        "\n",
        "If all examples are from the same class, it uses a one-class SVM.\n",
        "\n",
        "\n",
        "fit the model"
       ]
      },
      {
       "output_type": "stream",
       "stream": "stdout",
       "text": [
        "\n",
        "Accuracy: 83.3333333333\n",
        "fit the model"
       ]
      },
      {
       "output_type": "stream",
       "stream": "stdout",
       "text": [
        "\n",
        "Accuracy: 88.0952380952\n",
        "fit the model"
       ]
      },
      {
       "output_type": "stream",
       "stream": "stdout",
       "text": [
        "\n",
        "Accuracy: 83.3333333333\n",
        "fit the model"
       ]
      },
      {
       "output_type": "stream",
       "stream": "stdout",
       "text": [
        "\n",
        "fit the model"
       ]
      },
      {
       "output_type": "stream",
       "stream": "stdout",
       "text": [
        "\n",
        "Accuracy: 75.0\n",
        "fit the model"
       ]
      },
      {
       "output_type": "stream",
       "stream": "stdout",
       "text": [
        "\n",
        "Accuracy: 100.0\n",
        "fit the model"
       ]
      },
      {
       "output_type": "stream",
       "stream": "stdout",
       "text": [
        "\n",
        "Accuracy: 100.0\n",
        "fit the model"
       ]
      },
      {
       "output_type": "stream",
       "stream": "stdout",
       "text": [
        "\n",
        "Accuracy: 75.0\n",
        "fit the model"
       ]
      },
      {
       "output_type": "stream",
       "stream": "stdout",
       "text": [
        "\n",
        "Accuracy: 75.0\n",
        "fit the model"
       ]
      },
      {
       "output_type": "stream",
       "stream": "stdout",
       "text": [
        "\n",
        "Accuracy: 100.0\n",
        "fit the model"
       ]
      },
      {
       "output_type": "stream",
       "stream": "stdout",
       "text": [
        "\n",
        "Accuracy: 80.0\n",
        "fit the model"
       ]
      },
      {
       "output_type": "stream",
       "stream": "stdout",
       "text": [
        "\n",
        "Accuracy: 83.3333333333\n",
        "fit the model"
       ]
      },
      {
       "output_type": "stream",
       "stream": "stdout",
       "text": [
        "\n",
        "Accuracy: 85.7142857143\n",
        "fit the model"
       ]
      },
      {
       "output_type": "stream",
       "stream": "stdout",
       "text": [
        "\n",
        "Accuracy: 87.5\n",
        "fit the model"
       ]
      },
      {
       "output_type": "stream",
       "stream": "stdout",
       "text": [
        "\n",
        "Accuracy: 88.8888888889\n",
        "fit the model"
       ]
      },
      {
       "output_type": "stream",
       "stream": "stdout",
       "text": [
        "\n",
        "Accuracy: 90.0\n",
        "fit the model"
       ]
      },
      {
       "output_type": "stream",
       "stream": "stdout",
       "text": [
        "\n",
        "Accuracy: 90.9090909091\n",
        "fit the model"
       ]
      },
      {
       "output_type": "stream",
       "stream": "stdout",
       "text": [
        "\n",
        "Accuracy: 83.3333333333\n",
        "fit the model"
       ]
      },
      {
       "output_type": "stream",
       "stream": "stdout",
       "text": [
        "\n",
        "Accuracy: 84.6153846154\n",
        "fit the model"
       ]
      },
      {
       "output_type": "stream",
       "stream": "stdout",
       "text": [
        "\n",
        "Accuracy: 78.5714285714\n",
        "fit the model"
       ]
      },
      {
       "output_type": "stream",
       "stream": "stdout",
       "text": [
        "\n",
        "Accuracy: 73.3333333333\n",
        "fit the model"
       ]
      },
      {
       "output_type": "stream",
       "stream": "stdout",
       "text": [
        "\n",
        "Accuracy: 75.0\n",
        "fit the model"
       ]
      },
      {
       "output_type": "stream",
       "stream": "stdout",
       "text": [
        "\n",
        "Accuracy: 70.5882352941\n",
        "fit the model"
       ]
      },
      {
       "output_type": "stream",
       "stream": "stdout",
       "text": [
        "\n",
        "Accuracy: 72.2222222222\n",
        "fit the model"
       ]
      },
      {
       "output_type": "stream",
       "stream": "stdout",
       "text": [
        "\n",
        "Accuracy: 73.6842105263\n",
        "fit the model"
       ]
      },
      {
       "output_type": "stream",
       "stream": "stdout",
       "text": [
        "\n",
        "Accuracy: 65.0\n",
        "fit the model"
       ]
      },
      {
       "output_type": "stream",
       "stream": "stdout",
       "text": [
        "\n",
        "Accuracy: 71.4285714286\n",
        "fit the model"
       ]
      },
      {
       "output_type": "stream",
       "stream": "stdout",
       "text": [
        "\n",
        "Accuracy: 63.6363636364\n",
        "fit the model"
       ]
      },
      {
       "output_type": "stream",
       "stream": "stdout",
       "text": [
        "\n",
        "Accuracy: 63.6363636364\n",
        "fit the model"
       ]
      },
      {
       "output_type": "stream",
       "stream": "stdout",
       "text": [
        "\n",
        "Accuracy: 63.6363636364\n",
        "fit the model"
       ]
      }
     ],
     "prompt_number": "*"
    },
    {
     "cell_type": "heading",
     "level": 2,
     "metadata": {},
     "source": [
      "Flow chart: how do I choose what to do with my data set?"
     ]
    },
    {
     "cell_type": "markdown",
     "metadata": {},
     "source": [
      "This is a flow chart created by scikit-learn super-contributor [Andreas Mueller](https://github.com/amueller) which gives a nice summary of which algorithms to choose in various situations. Keep it around as a handy reference!"
     ]
    },
    {
     "cell_type": "markdown",
     "metadata": {},
     "source": [
      "<a href=\"http://scikit-learn.org/dev/tutorial/machine_learning_map/index.html\"><img src=\"http://scikit-learn.org/dev/_static/ml_map.png\" width=100%></a>\n",
      "\n",
      "Original source on the [scikit-learn website](http://scikit-learn.org/stable/tutorial/machine_learning_map/)"
     ]
    }
   ],
   "metadata": {}
  }
 ]
}